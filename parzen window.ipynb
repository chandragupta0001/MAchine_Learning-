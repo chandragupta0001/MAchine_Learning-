{
 "cells": [
  {
   "cell_type": "code",
   "execution_count": 5,
   "metadata": {},
   "outputs": [
    {
     "name": "stdout",
     "output_type": "stream",
     "text": [
      "Maximum Accuracy is 97.77777777777777\n"
     ]
    },
    {
     "data": {
      "image/png": "[encoded data removed]",
      "text/plain": [
       "<Figure size 432x288 with 1 Axes>"
      ]
     },
     "metadata": {
      "needs_background": "light"
     },
     "output_type": "display_data"
    }
   ],
   "source": [
    "#parzen window\n",
    "import matplotlib.pyplot as plt\n",
    "\n",
    "from array import array\n",
    "from numpy import linalg as LA\n",
    "import numpy as np\n",
    "import pandas\n",
    "train = pandas.read_csv('C:/Users/user/Desktop/datasc/iris_3/train.csv')\n",
    "test = pandas.read_csv('C:/Users/user/Desktop/datasc/iris_3/test.csv')\n",
    "def sorsec(val):\n",
    "    return val[0]\n",
    "cnt=0\n",
    "accuracy=[]\n",
    "for dist in range(1,30):\n",
    "    cnt=0\n",
    "    for i in range(len(test)):\n",
    "        a=test.iloc[i,0]\n",
    "        b=test.iloc[i,1]\n",
    "        rea1=test.iloc[i,2]\n",
    "        rea2=test.iloc[i,3]\n",
    "        rea3=test.iloc[i,4]\n",
    "        te=[a,b,rea1,rea2]\n",
    "        mat=[]\n",
    "        knn=[]\n",
    "        for k in range(len(train)):\n",
    "            c=train.iloc[k,0]\n",
    "            d=train.iloc[k,1]\n",
    "            e=train.iloc[k,2]\n",
    "            f=train.iloc[k,3]\n",
    "            g=train.iloc[k,4]\n",
    "            tra=[c,d,e,f]\n",
    "            m=list(np.array(te)-np.array(tra))\n",
    "            nm=LA.norm(m,2)\n",
    "            if (nm<dist):\n",
    "                mat.append([nm,g])\n",
    "        mat.sort(key=sorsec)\n",
    "        length=len(mat)\n",
    "        if (length>0):\n",
    "            for z in range(length):\n",
    "                knn.append(mat[z][1])\n",
    "            res = max(set(knn), key = knn.count)\n",
    "            if(res==rea3):\n",
    "                cnt+=1\n",
    "    count=((cnt/len(test))*100)\n",
    "    accuracy.append(count)\n",
    "accuracy=np.array(accuracy)\n",
    "distance=[]\n",
    "for k in range(1,30):\n",
    "    distance.append(k)\n",
    "distance=np.array(distance)\n",
    "# print(\"maximum Accuracy for given KNN is\",k)\n",
    "plt.plot(distance,accuracy,c='red')\n",
    "k=max(accuracy)\n",
    "print('Maximum Accuracy is',k)\n",
    "plt.xlabel('Increasing Distance for norm-2 :')\n",
    "plt.ylabel('Impact in Accuacy in %')\n",
    "plt.grid(True)\n",
    "plt.title('Parzen Accuracy for Different Distance ')\n",
    "plt.show()"
   ]
  }
 ],
 "metadata": {
  "kernelspec": {
   "display_name": "Python 3",
   "language": "python",
   "name": "python3"
  },
  "language_info": {
   "codemirror_mode": {
    "name": "ipython",
    "version": 3
   },
   "file_extension": ".py",
   "mimetype": "text/x-python",
   "name": "python",
   "nbconvert_exporter": "python",
   "pygments_lexer": "ipython3",
   "version": "3.7.4"
  }
 },
 "nbformat": 4,
 "nbformat_minor": 2
}
